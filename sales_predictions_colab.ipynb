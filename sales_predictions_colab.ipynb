{
 "cells": [
  {
   "cell_type": "code",
   "execution_count": 30,
   "metadata": {
    "colab": {
     "base_uri": "https://localhost:8080/",
     "height": 412
    },
    "id": "gaHlTLkV6aqG",
    "outputId": "03b8dd7f-b538-450d-a574-16e9dd0bc34f"
   },
   "outputs": [
    {
     "data": {
      "text/html": [
       "<div>\n",
       "<style scoped>\n",
       "    .dataframe tbody tr th:only-of-type {\n",
       "        vertical-align: middle;\n",
       "    }\n",
       "\n",
       "    .dataframe tbody tr th {\n",
       "        vertical-align: top;\n",
       "    }\n",
       "\n",
       "    .dataframe thead th {\n",
       "        text-align: right;\n",
       "    }\n",
       "</style>\n",
       "<table border=\"1\" class=\"dataframe\">\n",
       "  <thead>\n",
       "    <tr style=\"text-align: right;\">\n",
       "      <th></th>\n",
       "      <th>Customer_ID</th>\n",
       "      <th>Gender</th>\n",
       "      <th>Tenure_Months</th>\n",
       "      <th>Transaction_ID</th>\n",
       "      <th>Transaction_Date</th>\n",
       "      <th>Product_SKU</th>\n",
       "      <th>Product_Description</th>\n",
       "      <th>Product_Category</th>\n",
       "      <th>Quantity</th>\n",
       "      <th>Average_Price</th>\n",
       "      <th>...</th>\n",
       "      <th>Offline_Spend</th>\n",
       "      <th>Online_Spend</th>\n",
       "      <th>Month</th>\n",
       "      <th>Coupon_Code</th>\n",
       "      <th>Discount_Percentage</th>\n",
       "      <th>Near_Holiday</th>\n",
       "      <th>State</th>\n",
       "      <th>Total_Sales</th>\n",
       "      <th>Total_Cost</th>\n",
       "      <th>Average_Saved($)</th>\n",
       "    </tr>\n",
       "  </thead>\n",
       "  <tbody>\n",
       "    <tr>\n",
       "      <th>0</th>\n",
       "      <td>17850.0</td>\n",
       "      <td>M</td>\n",
       "      <td>12.0</td>\n",
       "      <td>16679.0</td>\n",
       "      <td>2019-01-01</td>\n",
       "      <td>GGOENEBJ079499</td>\n",
       "      <td>Nest Learning Thermostat 3rd Gen-USA - Stainle...</td>\n",
       "      <td>Nest Smart Devices</td>\n",
       "      <td>1.0</td>\n",
       "      <td>153.71</td>\n",
       "      <td>...</td>\n",
       "      <td>4500.0</td>\n",
       "      <td>2424.5</td>\n",
       "      <td>1</td>\n",
       "      <td>ELEC10</td>\n",
       "      <td>10.0</td>\n",
       "      <td>New Year's Day</td>\n",
       "      <td>Illinois</td>\n",
       "      <td>153.71</td>\n",
       "      <td>144.839</td>\n",
       "      <td>15.371</td>\n",
       "    </tr>\n",
       "    <tr>\n",
       "      <th>1</th>\n",
       "      <td>17850.0</td>\n",
       "      <td>M</td>\n",
       "      <td>12.0</td>\n",
       "      <td>16680.0</td>\n",
       "      <td>2019-01-01</td>\n",
       "      <td>GGOENEBJ079499</td>\n",
       "      <td>Nest Learning Thermostat 3rd Gen-USA - Stainle...</td>\n",
       "      <td>Nest Smart Devices</td>\n",
       "      <td>1.0</td>\n",
       "      <td>153.71</td>\n",
       "      <td>...</td>\n",
       "      <td>4500.0</td>\n",
       "      <td>2424.5</td>\n",
       "      <td>1</td>\n",
       "      <td>ELEC10</td>\n",
       "      <td>10.0</td>\n",
       "      <td>New Year's Day</td>\n",
       "      <td>Illinois</td>\n",
       "      <td>153.71</td>\n",
       "      <td>144.839</td>\n",
       "      <td>15.371</td>\n",
       "    </tr>\n",
       "    <tr>\n",
       "      <th>2</th>\n",
       "      <td>17850.0</td>\n",
       "      <td>M</td>\n",
       "      <td>12.0</td>\n",
       "      <td>16696.0</td>\n",
       "      <td>2019-01-01</td>\n",
       "      <td>GGOENEBQ078999</td>\n",
       "      <td>Nest Cam Outdoor Security Camera - USA</td>\n",
       "      <td>Nest Smart Devices</td>\n",
       "      <td>2.0</td>\n",
       "      <td>122.77</td>\n",
       "      <td>...</td>\n",
       "      <td>4500.0</td>\n",
       "      <td>2424.5</td>\n",
       "      <td>1</td>\n",
       "      <td>ELEC10</td>\n",
       "      <td>10.0</td>\n",
       "      <td>New Year's Day</td>\n",
       "      <td>Illinois</td>\n",
       "      <td>245.54</td>\n",
       "      <td>227.486</td>\n",
       "      <td>12.277</td>\n",
       "    </tr>\n",
       "    <tr>\n",
       "      <th>3</th>\n",
       "      <td>17850.0</td>\n",
       "      <td>M</td>\n",
       "      <td>12.0</td>\n",
       "      <td>16699.0</td>\n",
       "      <td>2019-01-01</td>\n",
       "      <td>GGOENEBQ079099</td>\n",
       "      <td>Nest Protect Smoke + CO White Battery Alarm-USA</td>\n",
       "      <td>Nest Smart Devices</td>\n",
       "      <td>1.0</td>\n",
       "      <td>81.50</td>\n",
       "      <td>...</td>\n",
       "      <td>4500.0</td>\n",
       "      <td>2424.5</td>\n",
       "      <td>1</td>\n",
       "      <td>ELEC10</td>\n",
       "      <td>10.0</td>\n",
       "      <td>New Year's Day</td>\n",
       "      <td>Illinois</td>\n",
       "      <td>81.50</td>\n",
       "      <td>79.850</td>\n",
       "      <td>8.150</td>\n",
       "    </tr>\n",
       "    <tr>\n",
       "      <th>4</th>\n",
       "      <td>17850.0</td>\n",
       "      <td>M</td>\n",
       "      <td>12.0</td>\n",
       "      <td>16700.0</td>\n",
       "      <td>2019-01-01</td>\n",
       "      <td>GGOENEBJ079499</td>\n",
       "      <td>Nest Learning Thermostat 3rd Gen-USA - Stainle...</td>\n",
       "      <td>Nest Smart Devices</td>\n",
       "      <td>1.0</td>\n",
       "      <td>153.71</td>\n",
       "      <td>...</td>\n",
       "      <td>4500.0</td>\n",
       "      <td>2424.5</td>\n",
       "      <td>1</td>\n",
       "      <td>ELEC10</td>\n",
       "      <td>10.0</td>\n",
       "      <td>New Year's Day</td>\n",
       "      <td>Illinois</td>\n",
       "      <td>153.71</td>\n",
       "      <td>144.839</td>\n",
       "      <td>15.371</td>\n",
       "    </tr>\n",
       "  </tbody>\n",
       "</table>\n",
       "<p>5 rows × 23 columns</p>\n",
       "</div>"
      ],
      "text/plain": [
       "   Customer_ID Gender  Tenure_Months  Transaction_ID Transaction_Date  \\\n",
       "0      17850.0      M           12.0         16679.0       2019-01-01   \n",
       "1      17850.0      M           12.0         16680.0       2019-01-01   \n",
       "2      17850.0      M           12.0         16696.0       2019-01-01   \n",
       "3      17850.0      M           12.0         16699.0       2019-01-01   \n",
       "4      17850.0      M           12.0         16700.0       2019-01-01   \n",
       "\n",
       "      Product_SKU                                Product_Description  \\\n",
       "0  GGOENEBJ079499  Nest Learning Thermostat 3rd Gen-USA - Stainle...   \n",
       "1  GGOENEBJ079499  Nest Learning Thermostat 3rd Gen-USA - Stainle...   \n",
       "2  GGOENEBQ078999             Nest Cam Outdoor Security Camera - USA   \n",
       "3  GGOENEBQ079099    Nest Protect Smoke + CO White Battery Alarm-USA   \n",
       "4  GGOENEBJ079499  Nest Learning Thermostat 3rd Gen-USA - Stainle...   \n",
       "\n",
       "     Product_Category  Quantity  Average_Price  ...  Offline_Spend  \\\n",
       "0  Nest Smart Devices       1.0         153.71  ...         4500.0   \n",
       "1  Nest Smart Devices       1.0         153.71  ...         4500.0   \n",
       "2  Nest Smart Devices       2.0         122.77  ...         4500.0   \n",
       "3  Nest Smart Devices       1.0          81.50  ...         4500.0   \n",
       "4  Nest Smart Devices       1.0         153.71  ...         4500.0   \n",
       "\n",
       "  Online_Spend  Month  Coupon_Code  Discount_Percentage    Near_Holiday  \\\n",
       "0       2424.5      1       ELEC10                 10.0  New Year's Day   \n",
       "1       2424.5      1       ELEC10                 10.0  New Year's Day   \n",
       "2       2424.5      1       ELEC10                 10.0  New Year's Day   \n",
       "3       2424.5      1       ELEC10                 10.0  New Year's Day   \n",
       "4       2424.5      1       ELEC10                 10.0  New Year's Day   \n",
       "\n",
       "      State  Total_Sales Total_Cost Average_Saved($)  \n",
       "0  Illinois       153.71    144.839           15.371  \n",
       "1  Illinois       153.71    144.839           15.371  \n",
       "2  Illinois       245.54    227.486           12.277  \n",
       "3  Illinois        81.50     79.850            8.150  \n",
       "4  Illinois       153.71    144.839           15.371  \n",
       "\n",
       "[5 rows x 23 columns]"
      ]
     },
     "execution_count": 30,
     "metadata": {},
     "output_type": "execute_result"
    }
   ],
   "source": [
    "# Import our dependencies\n",
    "from sklearn.model_selection import train_test_split\n",
    "from sklearn.preprocessing import StandardScaler, OneHotEncoder\n",
    "import pandas as pd\n",
    "import tensorflow as tf\n",
    "import scipy.stats as st\n",
    "import matplotlib.pyplot as plt\n",
    "\n",
    "#  Import and read our cleaned data.\n",
    "import pandas as pd\n",
    "url = \"https://raw.githubusercontent.com/natbiorg/project_4/refs/heads/main/Starter_Code/Resources/cleaned.csv\"\n",
    "data_df = pd.read_csv(url)\n",
    "data_df.head()\n"
   ]
  },
  {
   "cell_type": "code",
   "execution_count": 31,
   "metadata": {
    "colab": {
     "base_uri": "https://localhost:8080/"
    },
    "id": "ITsH0jnwL_IR",
    "outputId": "3ffcf2a6-9391-4d84-df11-5dec304809b6"
   },
   "outputs": [
    {
     "data": {
      "text/plain": [
       "Index(['Customer_ID', 'Gender', 'Tenure_Months', 'Transaction_ID',\n",
       "       'Transaction_Date', 'Product_SKU', 'Product_Description',\n",
       "       'Product_Category', 'Quantity', 'Average_Price', 'Delivery_Charges',\n",
       "       'Coupon_Status', 'GST', 'Offline_Spend', 'Online_Spend', 'Month',\n",
       "       'Coupon_Code', 'Discount_Percentage', 'Near_Holiday', 'State',\n",
       "       'Total_Sales', 'Total_Cost', 'Average_Saved($)'],\n",
       "      dtype='object')"
      ]
     },
     "execution_count": 31,
     "metadata": {},
     "output_type": "execute_result"
    }
   ],
   "source": [
    "data_df.columns"
   ]
  },
  {
   "cell_type": "code",
   "execution_count": 32,
   "metadata": {
    "colab": {
     "base_uri": "https://localhost:8080/",
     "height": 805
    },
    "id": "tdGhUSHVTC7E",
    "outputId": "4cc57cba-c60d-4f95-d2c9-370b09e2bda5"
   },
   "outputs": [
    {
     "data": {
      "text/plain": [
       "Customer_ID             1469\n",
       "Gender                     2\n",
       "Tenure_Months             50\n",
       "Transaction_ID         25062\n",
       "Transaction_Date         365\n",
       "Product_SKU             1145\n",
       "Product_Description      404\n",
       "Product_Category          13\n",
       "Quantity                 152\n",
       "Average_Price            547\n",
       "Delivery_Charges         268\n",
       "Coupon_Status              3\n",
       "GST                        5\n",
       "Offline_Spend             12\n",
       "Online_Spend             366\n",
       "Month                     12\n",
       "Coupon_Code               48\n",
       "Discount_Percentage        4\n",
       "Near_Holiday              12\n",
       "State                      5\n",
       "Total_Sales             2673\n",
       "Total_Cost              9415\n",
       "Average_Saved($)         950\n",
       "dtype: int64"
      ]
     },
     "execution_count": 32,
     "metadata": {},
     "output_type": "execute_result"
    }
   ],
   "source": [
    "data_df.nunique()"
   ]
  },
  {
   "cell_type": "code",
   "execution_count": 33,
   "metadata": {
    "id": "xIgGf1hbTI18"
   },
   "outputs": [],
   "source": [
    "data_df = data_df.drop(['Customer_ID', 'Transaction_ID', 'Product_SKU', 'Product_Description', 'Coupon_Code'], axis=1)"
   ]
  },
  {
   "cell_type": "code",
   "execution_count": 34,
   "metadata": {
    "id": "eqOjMKA-U2JO"
   },
   "outputs": [],
   "source": [
    "data_df['Transaction_Date'] = pd.to_datetime(data_df['Transaction_Date'])\n",
    "data_df['Transaction_Date_Ordinal'] = data_df['Transaction_Date'].apply(lambda date: date.toordinal())\n",
    "data_df.drop(['Transaction_Date'], axis=1, inplace=True)"
   ]
  },
  {
   "cell_type": "code",
   "execution_count": 35,
   "metadata": {
    "colab": {
     "base_uri": "https://localhost:8080/",
     "height": 648
    },
    "id": "j8PF2Wy_T4Y6",
    "outputId": "33f79676-5065-41b4-bd0a-f21756fcdc9c"
   },
   "outputs": [
    {
     "data": {
      "text/plain": [
       "Gender                       object\n",
       "Tenure_Months               float64\n",
       "Product_Category             object\n",
       "Quantity                    float64\n",
       "Average_Price               float64\n",
       "Delivery_Charges            float64\n",
       "Coupon_Status                object\n",
       "GST                         float64\n",
       "Offline_Spend               float64\n",
       "Online_Spend                float64\n",
       "Month                         int64\n",
       "Discount_Percentage         float64\n",
       "Near_Holiday                 object\n",
       "State                        object\n",
       "Total_Sales                 float64\n",
       "Total_Cost                  float64\n",
       "Average_Saved($)            float64\n",
       "Transaction_Date_Ordinal      int64\n",
       "dtype: object"
      ]
     },
     "execution_count": 35,
     "metadata": {},
     "output_type": "execute_result"
    }
   ],
   "source": [
    "data_df.dtypes\n",
    "# To dummy Gender, Product_Category, Coupon_Status, Near_Holiday, State\n",
    "# Convert Transaction Date to date type"
   ]
  },
  {
   "cell_type": "code",
   "execution_count": 36,
   "metadata": {
    "colab": {
     "base_uri": "https://localhost:8080/",
     "height": 273
    },
    "id": "am7tObXnR_Sm",
    "outputId": "51062f90-5d7e-4cca-b9f6-f57444b30626"
   },
   "outputs": [
    {
     "data": {
      "text/html": [
       "<div>\n",
       "<style scoped>\n",
       "    .dataframe tbody tr th:only-of-type {\n",
       "        vertical-align: middle;\n",
       "    }\n",
       "\n",
       "    .dataframe tbody tr th {\n",
       "        vertical-align: top;\n",
       "    }\n",
       "\n",
       "    .dataframe thead th {\n",
       "        text-align: right;\n",
       "    }\n",
       "</style>\n",
       "<table border=\"1\" class=\"dataframe\">\n",
       "  <thead>\n",
       "    <tr style=\"text-align: right;\">\n",
       "      <th></th>\n",
       "      <th>Tenure_Months</th>\n",
       "      <th>Quantity</th>\n",
       "      <th>Average_Price</th>\n",
       "      <th>Delivery_Charges</th>\n",
       "      <th>GST</th>\n",
       "      <th>Offline_Spend</th>\n",
       "      <th>Online_Spend</th>\n",
       "      <th>Month</th>\n",
       "      <th>Discount_Percentage</th>\n",
       "      <th>Total_Sales</th>\n",
       "      <th>...</th>\n",
       "      <th>Near_Holiday_New Year's Day</th>\n",
       "      <th>Near_Holiday_Thanksgiving Day</th>\n",
       "      <th>Near_Holiday_Veterans Day</th>\n",
       "      <th>Near_Holiday_Washington's Birthday</th>\n",
       "      <th>Near_Holiday_nan</th>\n",
       "      <th>State_California</th>\n",
       "      <th>State_Illinois</th>\n",
       "      <th>State_New Jersey</th>\n",
       "      <th>State_New York</th>\n",
       "      <th>State_Washington DC</th>\n",
       "    </tr>\n",
       "  </thead>\n",
       "  <tbody>\n",
       "    <tr>\n",
       "      <th>0</th>\n",
       "      <td>12.0</td>\n",
       "      <td>1.0</td>\n",
       "      <td>153.71</td>\n",
       "      <td>6.5</td>\n",
       "      <td>0.1</td>\n",
       "      <td>4500.0</td>\n",
       "      <td>2424.5</td>\n",
       "      <td>1</td>\n",
       "      <td>10.0</td>\n",
       "      <td>153.71</td>\n",
       "      <td>...</td>\n",
       "      <td>1.0</td>\n",
       "      <td>0.0</td>\n",
       "      <td>0.0</td>\n",
       "      <td>0.0</td>\n",
       "      <td>0.0</td>\n",
       "      <td>0.0</td>\n",
       "      <td>1.0</td>\n",
       "      <td>0.0</td>\n",
       "      <td>0.0</td>\n",
       "      <td>0.0</td>\n",
       "    </tr>\n",
       "    <tr>\n",
       "      <th>1</th>\n",
       "      <td>12.0</td>\n",
       "      <td>1.0</td>\n",
       "      <td>153.71</td>\n",
       "      <td>6.5</td>\n",
       "      <td>0.1</td>\n",
       "      <td>4500.0</td>\n",
       "      <td>2424.5</td>\n",
       "      <td>1</td>\n",
       "      <td>10.0</td>\n",
       "      <td>153.71</td>\n",
       "      <td>...</td>\n",
       "      <td>1.0</td>\n",
       "      <td>0.0</td>\n",
       "      <td>0.0</td>\n",
       "      <td>0.0</td>\n",
       "      <td>0.0</td>\n",
       "      <td>0.0</td>\n",
       "      <td>1.0</td>\n",
       "      <td>0.0</td>\n",
       "      <td>0.0</td>\n",
       "      <td>0.0</td>\n",
       "    </tr>\n",
       "    <tr>\n",
       "      <th>2</th>\n",
       "      <td>12.0</td>\n",
       "      <td>2.0</td>\n",
       "      <td>122.77</td>\n",
       "      <td>6.5</td>\n",
       "      <td>0.1</td>\n",
       "      <td>4500.0</td>\n",
       "      <td>2424.5</td>\n",
       "      <td>1</td>\n",
       "      <td>10.0</td>\n",
       "      <td>245.54</td>\n",
       "      <td>...</td>\n",
       "      <td>1.0</td>\n",
       "      <td>0.0</td>\n",
       "      <td>0.0</td>\n",
       "      <td>0.0</td>\n",
       "      <td>0.0</td>\n",
       "      <td>0.0</td>\n",
       "      <td>1.0</td>\n",
       "      <td>0.0</td>\n",
       "      <td>0.0</td>\n",
       "      <td>0.0</td>\n",
       "    </tr>\n",
       "    <tr>\n",
       "      <th>3</th>\n",
       "      <td>12.0</td>\n",
       "      <td>1.0</td>\n",
       "      <td>81.50</td>\n",
       "      <td>6.5</td>\n",
       "      <td>0.1</td>\n",
       "      <td>4500.0</td>\n",
       "      <td>2424.5</td>\n",
       "      <td>1</td>\n",
       "      <td>10.0</td>\n",
       "      <td>81.50</td>\n",
       "      <td>...</td>\n",
       "      <td>1.0</td>\n",
       "      <td>0.0</td>\n",
       "      <td>0.0</td>\n",
       "      <td>0.0</td>\n",
       "      <td>0.0</td>\n",
       "      <td>0.0</td>\n",
       "      <td>1.0</td>\n",
       "      <td>0.0</td>\n",
       "      <td>0.0</td>\n",
       "      <td>0.0</td>\n",
       "    </tr>\n",
       "    <tr>\n",
       "      <th>4</th>\n",
       "      <td>12.0</td>\n",
       "      <td>1.0</td>\n",
       "      <td>153.71</td>\n",
       "      <td>6.5</td>\n",
       "      <td>0.1</td>\n",
       "      <td>4500.0</td>\n",
       "      <td>2424.5</td>\n",
       "      <td>1</td>\n",
       "      <td>10.0</td>\n",
       "      <td>153.71</td>\n",
       "      <td>...</td>\n",
       "      <td>1.0</td>\n",
       "      <td>0.0</td>\n",
       "      <td>0.0</td>\n",
       "      <td>0.0</td>\n",
       "      <td>0.0</td>\n",
       "      <td>0.0</td>\n",
       "      <td>1.0</td>\n",
       "      <td>0.0</td>\n",
       "      <td>0.0</td>\n",
       "      <td>0.0</td>\n",
       "    </tr>\n",
       "  </tbody>\n",
       "</table>\n",
       "<p>5 rows × 49 columns</p>\n",
       "</div>"
      ],
      "text/plain": [
       "   Tenure_Months  Quantity  Average_Price  Delivery_Charges  GST  \\\n",
       "0           12.0       1.0         153.71               6.5  0.1   \n",
       "1           12.0       1.0         153.71               6.5  0.1   \n",
       "2           12.0       2.0         122.77               6.5  0.1   \n",
       "3           12.0       1.0          81.50               6.5  0.1   \n",
       "4           12.0       1.0         153.71               6.5  0.1   \n",
       "\n",
       "   Offline_Spend  Online_Spend  Month  Discount_Percentage  Total_Sales  ...  \\\n",
       "0         4500.0        2424.5      1                 10.0       153.71  ...   \n",
       "1         4500.0        2424.5      1                 10.0       153.71  ...   \n",
       "2         4500.0        2424.5      1                 10.0       245.54  ...   \n",
       "3         4500.0        2424.5      1                 10.0        81.50  ...   \n",
       "4         4500.0        2424.5      1                 10.0       153.71  ...   \n",
       "\n",
       "   Near_Holiday_New Year's Day  Near_Holiday_Thanksgiving Day  \\\n",
       "0                          1.0                            0.0   \n",
       "1                          1.0                            0.0   \n",
       "2                          1.0                            0.0   \n",
       "3                          1.0                            0.0   \n",
       "4                          1.0                            0.0   \n",
       "\n",
       "   Near_Holiday_Veterans Day  Near_Holiday_Washington's Birthday  \\\n",
       "0                        0.0                                 0.0   \n",
       "1                        0.0                                 0.0   \n",
       "2                        0.0                                 0.0   \n",
       "3                        0.0                                 0.0   \n",
       "4                        0.0                                 0.0   \n",
       "\n",
       "   Near_Holiday_nan  State_California  State_Illinois  State_New Jersey  \\\n",
       "0               0.0               0.0             1.0               0.0   \n",
       "1               0.0               0.0             1.0               0.0   \n",
       "2               0.0               0.0             1.0               0.0   \n",
       "3               0.0               0.0             1.0               0.0   \n",
       "4               0.0               0.0             1.0               0.0   \n",
       "\n",
       "   State_New York  State_Washington DC  \n",
       "0             0.0                  0.0  \n",
       "1             0.0                  0.0  \n",
       "2             0.0                  0.0  \n",
       "3             0.0                  0.0  \n",
       "4             0.0                  0.0  \n",
       "\n",
       "[5 rows x 49 columns]"
      ]
     },
     "execution_count": 36,
     "metadata": {},
     "output_type": "execute_result"
    }
   ],
   "source": [
    "data_cat =  data_df.dtypes[data_df.dtypes == \"object\"].index.tolist()\n",
    "enc = OneHotEncoder(sparse_output=False)\n",
    "\n",
    "encode_df = pd.DataFrame(enc.fit_transform(data_df[data_cat]))\n",
    "\n",
    "encode_df.columns = enc.get_feature_names_out()\n",
    "\n",
    "data_df = data_df.merge(encode_df,left_index=True, right_index=True)\n",
    "data_df = data_df.drop(data_cat, axis=1)\n",
    "data_df.head()"
   ]
  },
  {
   "cell_type": "code",
   "execution_count": 37,
   "metadata": {
    "id": "r1VaJ0W_NvE2"
   },
   "outputs": [],
   "source": [
    "y = data_df['Total_Cost']\n",
    "X = data_df.drop(['Total_Cost'], axis =1)\n",
    "\n",
    "# Split the preprocessed data into a training and testing dataset\n",
    "X_train, X_test, y_train, y_test = train_test_split(X, y, random_state=78)"
   ]
  },
  {
   "cell_type": "code",
   "execution_count": 38,
   "metadata": {
    "id": "IY0CI0gPN4kF"
   },
   "outputs": [],
   "source": [
    "# Create a StandardScaler instances\n",
    "scaler = StandardScaler()\n",
    "\n",
    "# Fit the StandardScaler\n",
    "X_scaler = scaler.fit(X_train)\n",
    "\n",
    "# Scale the data\n",
    "X_train_scaled = X_scaler.transform(X_train)\n",
    "X_test_scaled = X_scaler.transform(X_test)"
   ]
  },
  {
   "cell_type": "code",
   "execution_count": 98,
   "metadata": {
    "colab": {
     "base_uri": "https://localhost:8080/",
     "height": 280
    },
    "id": "XswEXL8JN_j_",
    "outputId": "9d5461dd-751a-4fa8-af87-bbf04d35798c"
   },
   "outputs": [
    {
     "name": "stderr",
     "output_type": "stream",
     "text": [
      "/usr/local/lib/python3.10/dist-packages/keras/src/layers/core/dense.py:87: UserWarning: Do not pass an `input_shape`/`input_dim` argument to a layer. When using Sequential models, prefer using an `Input(shape)` object as the first layer in the model instead.\n",
      "  super().__init__(activity_regularizer=activity_regularizer, **kwargs)\n"
     ]
    },
    {
     "data": {
      "text/html": [
       "<pre style=\"white-space:pre;overflow-x:auto;line-height:normal;font-family:Menlo,'DejaVu Sans Mono',consolas,'Courier New',monospace\"><span style=\"font-weight: bold\">Model: \"sequential_8\"</span>\n",
       "</pre>\n"
      ],
      "text/plain": [
       "\u001b[1mModel: \"sequential_8\"\u001b[0m\n"
      ]
     },
     "metadata": {},
     "output_type": "display_data"
    },
    {
     "data": {
      "text/html": [
       "<pre style=\"white-space:pre;overflow-x:auto;line-height:normal;font-family:Menlo,'DejaVu Sans Mono',consolas,'Courier New',monospace\">┏━━━━━━━━━━━━━━━━━━━━━━━━━━━━━━━━━━━━━━┳━━━━━━━━━━━━━━━━━━━━━━━━━━━━━┳━━━━━━━━━━━━━━━━━┓\n",
       "┃<span style=\"font-weight: bold\"> Layer (type)                         </span>┃<span style=\"font-weight: bold\"> Output Shape                </span>┃<span style=\"font-weight: bold\">         Param # </span>┃\n",
       "┡━━━━━━━━━━━━━━━━━━━━━━━━━━━━━━━━━━━━━━╇━━━━━━━━━━━━━━━━━━━━━━━━━━━━━╇━━━━━━━━━━━━━━━━━┩\n",
       "│ dense_24 (<span style=\"color: #0087ff; text-decoration-color: #0087ff\">Dense</span>)                     │ (<span style=\"color: #00d7ff; text-decoration-color: #00d7ff\">None</span>, <span style=\"color: #00af00; text-decoration-color: #00af00\">80</span>)                  │           <span style=\"color: #00af00; text-decoration-color: #00af00\">3,920</span> │\n",
       "├──────────────────────────────────────┼─────────────────────────────┼─────────────────┤\n",
       "│ dense_25 (<span style=\"color: #0087ff; text-decoration-color: #0087ff\">Dense</span>)                     │ (<span style=\"color: #00d7ff; text-decoration-color: #00d7ff\">None</span>, <span style=\"color: #00af00; text-decoration-color: #00af00\">80</span>)                  │           <span style=\"color: #00af00; text-decoration-color: #00af00\">6,480</span> │\n",
       "├──────────────────────────────────────┼─────────────────────────────┼─────────────────┤\n",
       "│ dense_26 (<span style=\"color: #0087ff; text-decoration-color: #0087ff\">Dense</span>)                     │ (<span style=\"color: #00d7ff; text-decoration-color: #00d7ff\">None</span>, <span style=\"color: #00af00; text-decoration-color: #00af00\">1</span>)                   │              <span style=\"color: #00af00; text-decoration-color: #00af00\">81</span> │\n",
       "└──────────────────────────────────────┴─────────────────────────────┴─────────────────┘\n",
       "</pre>\n"
      ],
      "text/plain": [
       "┏━━━━━━━━━━━━━━━━━━━━━━━━━━━━━━━━━━━━━━┳━━━━━━━━━━━━━━━━━━━━━━━━━━━━━┳━━━━━━━━━━━━━━━━━┓\n",
       "┃\u001b[1m \u001b[0m\u001b[1mLayer (type)                        \u001b[0m\u001b[1m \u001b[0m┃\u001b[1m \u001b[0m\u001b[1mOutput Shape               \u001b[0m\u001b[1m \u001b[0m┃\u001b[1m \u001b[0m\u001b[1m        Param #\u001b[0m\u001b[1m \u001b[0m┃\n",
       "┡━━━━━━━━━━━━━━━━━━━━━━━━━━━━━━━━━━━━━━╇━━━━━━━━━━━━━━━━━━━━━━━━━━━━━╇━━━━━━━━━━━━━━━━━┩\n",
       "│ dense_24 (\u001b[38;5;33mDense\u001b[0m)                     │ (\u001b[38;5;45mNone\u001b[0m, \u001b[38;5;34m80\u001b[0m)                  │           \u001b[38;5;34m3,920\u001b[0m │\n",
       "├──────────────────────────────────────┼─────────────────────────────┼─────────────────┤\n",
       "│ dense_25 (\u001b[38;5;33mDense\u001b[0m)                     │ (\u001b[38;5;45mNone\u001b[0m, \u001b[38;5;34m80\u001b[0m)                  │           \u001b[38;5;34m6,480\u001b[0m │\n",
       "├──────────────────────────────────────┼─────────────────────────────┼─────────────────┤\n",
       "│ dense_26 (\u001b[38;5;33mDense\u001b[0m)                     │ (\u001b[38;5;45mNone\u001b[0m, \u001b[38;5;34m1\u001b[0m)                   │              \u001b[38;5;34m81\u001b[0m │\n",
       "└──────────────────────────────────────┴─────────────────────────────┴─────────────────┘\n"
      ]
     },
     "metadata": {},
     "output_type": "display_data"
    },
    {
     "data": {
      "text/html": [
       "<pre style=\"white-space:pre;overflow-x:auto;line-height:normal;font-family:Menlo,'DejaVu Sans Mono',consolas,'Courier New',monospace\"><span style=\"font-weight: bold\"> Total params: </span><span style=\"color: #00af00; text-decoration-color: #00af00\">10,481</span> (40.94 KB)\n",
       "</pre>\n"
      ],
      "text/plain": [
       "\u001b[1m Total params: \u001b[0m\u001b[38;5;34m10,481\u001b[0m (40.94 KB)\n"
      ]
     },
     "metadata": {},
     "output_type": "display_data"
    },
    {
     "data": {
      "text/html": [
       "<pre style=\"white-space:pre;overflow-x:auto;line-height:normal;font-family:Menlo,'DejaVu Sans Mono',consolas,'Courier New',monospace\"><span style=\"font-weight: bold\"> Trainable params: </span><span style=\"color: #00af00; text-decoration-color: #00af00\">10,481</span> (40.94 KB)\n",
       "</pre>\n"
      ],
      "text/plain": [
       "\u001b[1m Trainable params: \u001b[0m\u001b[38;5;34m10,481\u001b[0m (40.94 KB)\n"
      ]
     },
     "metadata": {},
     "output_type": "display_data"
    },
    {
     "data": {
      "text/html": [
       "<pre style=\"white-space:pre;overflow-x:auto;line-height:normal;font-family:Menlo,'DejaVu Sans Mono',consolas,'Courier New',monospace\"><span style=\"font-weight: bold\"> Non-trainable params: </span><span style=\"color: #00af00; text-decoration-color: #00af00\">0</span> (0.00 B)\n",
       "</pre>\n"
      ],
      "text/plain": [
       "\u001b[1m Non-trainable params: \u001b[0m\u001b[38;5;34m0\u001b[0m (0.00 B)\n"
      ]
     },
     "metadata": {},
     "output_type": "display_data"
    }
   ],
   "source": [
    "# Define the model - deep neural net, i.e., the number of input features and hidden nodes for each layer.\n",
    "number_input_features = 48\n",
    "hidden_nodes_layer1 =  80\n",
    "hidden_nodes_layer2 = 80\n",
    "\n",
    "nn = tf.keras.models.Sequential()\n",
    "\n",
    "# First hidden layer\n",
    "nn.add(\n",
    "    tf.keras.layers.Dense(units=hidden_nodes_layer1, input_dim=number_input_features, activation=\"relu\")\n",
    ")\n",
    "\n",
    "# Second hidden layer\n",
    "nn.add(tf.keras.layers.Dense(units=hidden_nodes_layer2, activation=\"relu\"))\n",
    "\n",
    "# Output layer\n",
    "nn.add(tf.keras.layers.Dense(units=1))\n",
    "\n",
    "# Check the structure of the model\n",
    "nn.summary()"
   ]
  },
  {
   "cell_type": "code",
   "execution_count": 99,
   "metadata": {
    "id": "5toGpomyOBRe"
   },
   "outputs": [],
   "source": [
    "# Compile the model\n",
    "nn.compile(loss=\"mean_squared_error\", optimizer=\"adam\", metrics=[\"mae\"])"
   ]
  },
  {
   "cell_type": "code",
   "execution_count": 101,
   "metadata": {
    "colab": {
     "base_uri": "https://localhost:8080/"
    },
    "id": "QP1lP5MMOFrM",
    "outputId": "ae843707-72f1-4d23-bee1-dd63d4c0c94a"
   },
   "outputs": [
    {
     "name": "stdout",
     "output_type": "stream",
     "text": [
      "Epoch 1/50\n",
      "\u001b[1m1242/1242\u001b[0m \u001b[32m━━━━━━━━━━━━━━━━━━━━\u001b[0m\u001b[37m\u001b[0m \u001b[1m2s\u001b[0m 2ms/step - loss: 113.2589 - mae: 4.4298\n",
      "Epoch 2/50\n",
      "\u001b[1m1242/1242\u001b[0m \u001b[32m━━━━━━━━━━━━━━━━━━━━\u001b[0m\u001b[37m\u001b[0m \u001b[1m3s\u001b[0m 2ms/step - loss: 79.2721 - mae: 3.7397\n",
      "Epoch 3/50\n",
      "\u001b[1m1242/1242\u001b[0m \u001b[32m━━━━━━━━━━━━━━━━━━━━\u001b[0m\u001b[37m\u001b[0m \u001b[1m3s\u001b[0m 2ms/step - loss: 70.1782 - mae: 3.3887\n",
      "Epoch 4/50\n",
      "\u001b[1m1242/1242\u001b[0m \u001b[32m━━━━━━━━━━━━━━━━━━━━\u001b[0m\u001b[37m\u001b[0m \u001b[1m2s\u001b[0m 2ms/step - loss: 148.3096 - mae: 4.5646\n",
      "Epoch 5/50\n",
      "\u001b[1m1242/1242\u001b[0m \u001b[32m━━━━━━━━━━━━━━━━━━━━\u001b[0m\u001b[37m\u001b[0m \u001b[1m2s\u001b[0m 2ms/step - loss: 257.8421 - mae: 4.2122\n",
      "Epoch 6/50\n",
      "\u001b[1m1242/1242\u001b[0m \u001b[32m━━━━━━━━━━━━━━━━━━━━\u001b[0m\u001b[37m\u001b[0m \u001b[1m3s\u001b[0m 2ms/step - loss: 50.4647 - mae: 2.7679\n",
      "Epoch 7/50\n",
      "\u001b[1m1242/1242\u001b[0m \u001b[32m━━━━━━━━━━━━━━━━━━━━\u001b[0m\u001b[37m\u001b[0m \u001b[1m2s\u001b[0m 2ms/step - loss: 90.0155 - mae: 3.6695\n",
      "Epoch 8/50\n",
      "\u001b[1m1242/1242\u001b[0m \u001b[32m━━━━━━━━━━━━━━━━━━━━\u001b[0m\u001b[37m\u001b[0m \u001b[1m3s\u001b[0m 3ms/step - loss: 27.5509 - mae: 2.4124\n",
      "Epoch 9/50\n",
      "\u001b[1m1242/1242\u001b[0m \u001b[32m━━━━━━━━━━━━━━━━━━━━\u001b[0m\u001b[37m\u001b[0m \u001b[1m4s\u001b[0m 2ms/step - loss: 86.9265 - mae: 3.4208\n",
      "Epoch 10/50\n",
      "\u001b[1m1242/1242\u001b[0m \u001b[32m━━━━━━━━━━━━━━━━━━━━\u001b[0m\u001b[37m\u001b[0m \u001b[1m3s\u001b[0m 2ms/step - loss: 87.3640 - mae: 3.1114\n",
      "Epoch 11/50\n",
      "\u001b[1m1242/1242\u001b[0m \u001b[32m━━━━━━━━━━━━━━━━━━━━\u001b[0m\u001b[37m\u001b[0m \u001b[1m3s\u001b[0m 2ms/step - loss: 28.5324 - mae: 2.2283\n",
      "Epoch 12/50\n",
      "\u001b[1m1242/1242\u001b[0m \u001b[32m━━━━━━━━━━━━━━━━━━━━\u001b[0m\u001b[37m\u001b[0m \u001b[1m2s\u001b[0m 2ms/step - loss: 36.7664 - mae: 2.6278\n",
      "Epoch 13/50\n",
      "\u001b[1m1242/1242\u001b[0m \u001b[32m━━━━━━━━━━━━━━━━━━━━\u001b[0m\u001b[37m\u001b[0m \u001b[1m3s\u001b[0m 3ms/step - loss: 100.0104 - mae: 3.7884\n",
      "Epoch 14/50\n",
      "\u001b[1m1242/1242\u001b[0m \u001b[32m━━━━━━━━━━━━━━━━━━━━\u001b[0m\u001b[37m\u001b[0m \u001b[1m4s\u001b[0m 2ms/step - loss: 49.1247 - mae: 2.7873\n",
      "Epoch 15/50\n",
      "\u001b[1m1242/1242\u001b[0m \u001b[32m━━━━━━━━━━━━━━━━━━━━\u001b[0m\u001b[37m\u001b[0m \u001b[1m3s\u001b[0m 2ms/step - loss: 42.5189 - mae: 2.8815\n",
      "Epoch 16/50\n",
      "\u001b[1m1242/1242\u001b[0m \u001b[32m━━━━━━━━━━━━━━━━━━━━\u001b[0m\u001b[37m\u001b[0m \u001b[1m3s\u001b[0m 2ms/step - loss: 31.5412 - mae: 2.5782\n",
      "Epoch 17/50\n",
      "\u001b[1m1242/1242\u001b[0m \u001b[32m━━━━━━━━━━━━━━━━━━━━\u001b[0m\u001b[37m\u001b[0m \u001b[1m4s\u001b[0m 2ms/step - loss: 51.7255 - mae: 2.9065\n",
      "Epoch 18/50\n",
      "\u001b[1m1242/1242\u001b[0m \u001b[32m━━━━━━━━━━━━━━━━━━━━\u001b[0m\u001b[37m\u001b[0m \u001b[1m4s\u001b[0m 2ms/step - loss: 70.3995 - mae: 3.3042\n",
      "Epoch 19/50\n",
      "\u001b[1m1242/1242\u001b[0m \u001b[32m━━━━━━━━━━━━━━━━━━━━\u001b[0m\u001b[37m\u001b[0m \u001b[1m3s\u001b[0m 2ms/step - loss: 37.3210 - mae: 2.4615\n",
      "Epoch 20/50\n",
      "\u001b[1m1242/1242\u001b[0m \u001b[32m━━━━━━━━━━━━━━━━━━━━\u001b[0m\u001b[37m\u001b[0m \u001b[1m3s\u001b[0m 2ms/step - loss: 40.3210 - mae: 2.5580\n",
      "Epoch 21/50\n",
      "\u001b[1m1242/1242\u001b[0m \u001b[32m━━━━━━━━━━━━━━━━━━━━\u001b[0m\u001b[37m\u001b[0m \u001b[1m3s\u001b[0m 2ms/step - loss: 37.6645 - mae: 2.5165\n",
      "Epoch 22/50\n",
      "\u001b[1m1242/1242\u001b[0m \u001b[32m━━━━━━━━━━━━━━━━━━━━\u001b[0m\u001b[37m\u001b[0m \u001b[1m3s\u001b[0m 2ms/step - loss: 47.0945 - mae: 2.4329\n",
      "Epoch 23/50\n",
      "\u001b[1m1242/1242\u001b[0m \u001b[32m━━━━━━━━━━━━━━━━━━━━\u001b[0m\u001b[37m\u001b[0m \u001b[1m4s\u001b[0m 2ms/step - loss: 26.9418 - mae: 2.2960\n",
      "Epoch 24/50\n",
      "\u001b[1m1242/1242\u001b[0m \u001b[32m━━━━━━━━━━━━━━━━━━━━\u001b[0m\u001b[37m\u001b[0m \u001b[1m3s\u001b[0m 2ms/step - loss: 27.9714 - mae: 2.2371\n",
      "Epoch 25/50\n",
      "\u001b[1m1242/1242\u001b[0m \u001b[32m━━━━━━━━━━━━━━━━━━━━\u001b[0m\u001b[37m\u001b[0m \u001b[1m3s\u001b[0m 2ms/step - loss: 18.8372 - mae: 1.9173\n",
      "Epoch 26/50\n",
      "\u001b[1m1242/1242\u001b[0m \u001b[32m━━━━━━━━━━━━━━━━━━━━\u001b[0m\u001b[37m\u001b[0m \u001b[1m4s\u001b[0m 3ms/step - loss: 106.1704 - mae: 3.3706\n",
      "Epoch 27/50\n",
      "\u001b[1m1242/1242\u001b[0m \u001b[32m━━━━━━━━━━━━━━━━━━━━\u001b[0m\u001b[37m\u001b[0m \u001b[1m4s\u001b[0m 2ms/step - loss: 59.7202 - mae: 2.2215\n",
      "Epoch 28/50\n",
      "\u001b[1m1242/1242\u001b[0m \u001b[32m━━━━━━━━━━━━━━━━━━━━\u001b[0m\u001b[37m\u001b[0m \u001b[1m3s\u001b[0m 2ms/step - loss: 22.6702 - mae: 2.0475\n",
      "Epoch 29/50\n",
      "\u001b[1m1242/1242\u001b[0m \u001b[32m━━━━━━━━━━━━━━━━━━━━\u001b[0m\u001b[37m\u001b[0m \u001b[1m2s\u001b[0m 2ms/step - loss: 29.5302 - mae: 2.1198\n",
      "Epoch 30/50\n",
      "\u001b[1m1242/1242\u001b[0m \u001b[32m━━━━━━━━━━━━━━━━━━━━\u001b[0m\u001b[37m\u001b[0m \u001b[1m3s\u001b[0m 2ms/step - loss: 14.9083 - mae: 1.8125\n",
      "Epoch 31/50\n",
      "\u001b[1m1242/1242\u001b[0m \u001b[32m━━━━━━━━━━━━━━━━━━━━\u001b[0m\u001b[37m\u001b[0m \u001b[1m3s\u001b[0m 2ms/step - loss: 39.3485 - mae: 2.4997\n",
      "Epoch 32/50\n",
      "\u001b[1m1242/1242\u001b[0m \u001b[32m━━━━━━━━━━━━━━━━━━━━\u001b[0m\u001b[37m\u001b[0m \u001b[1m2s\u001b[0m 2ms/step - loss: 77.5120 - mae: 3.1692\n",
      "Epoch 33/50\n",
      "\u001b[1m1242/1242\u001b[0m \u001b[32m━━━━━━━━━━━━━━━━━━━━\u001b[0m\u001b[37m\u001b[0m \u001b[1m3s\u001b[0m 2ms/step - loss: 32.1861 - mae: 2.1042\n",
      "Epoch 34/50\n",
      "\u001b[1m1242/1242\u001b[0m \u001b[32m━━━━━━━━━━━━━━━━━━━━\u001b[0m\u001b[37m\u001b[0m \u001b[1m2s\u001b[0m 2ms/step - loss: 11.0945 - mae: 1.6197\n",
      "Epoch 35/50\n",
      "\u001b[1m1242/1242\u001b[0m \u001b[32m━━━━━━━━━━━━━━━━━━━━\u001b[0m\u001b[37m\u001b[0m \u001b[1m3s\u001b[0m 2ms/step - loss: 128.9617 - mae: 3.9669\n",
      "Epoch 36/50\n",
      "\u001b[1m1242/1242\u001b[0m \u001b[32m━━━━━━━━━━━━━━━━━━━━\u001b[0m\u001b[37m\u001b[0m \u001b[1m4s\u001b[0m 3ms/step - loss: 17.0316 - mae: 1.8670\n",
      "Epoch 37/50\n",
      "\u001b[1m1242/1242\u001b[0m \u001b[32m━━━━━━━━━━━━━━━━━━━━\u001b[0m\u001b[37m\u001b[0m \u001b[1m2s\u001b[0m 2ms/step - loss: 42.5777 - mae: 2.6523\n",
      "Epoch 38/50\n",
      "\u001b[1m1242/1242\u001b[0m \u001b[32m━━━━━━━━━━━━━━━━━━━━\u001b[0m\u001b[37m\u001b[0m \u001b[1m3s\u001b[0m 2ms/step - loss: 16.2117 - mae: 1.6925\n",
      "Epoch 39/50\n",
      "\u001b[1m1242/1242\u001b[0m \u001b[32m━━━━━━━━━━━━━━━━━━━━\u001b[0m\u001b[37m\u001b[0m \u001b[1m2s\u001b[0m 2ms/step - loss: 14.4562 - mae: 1.7691\n",
      "Epoch 40/50\n",
      "\u001b[1m1242/1242\u001b[0m \u001b[32m━━━━━━━━━━━━━━━━━━━━\u001b[0m\u001b[37m\u001b[0m \u001b[1m3s\u001b[0m 2ms/step - loss: 21.3584 - mae: 1.8862\n",
      "Epoch 41/50\n",
      "\u001b[1m1242/1242\u001b[0m \u001b[32m━━━━━━━━━━━━━━━━━━━━\u001b[0m\u001b[37m\u001b[0m \u001b[1m3s\u001b[0m 3ms/step - loss: 13.0935 - mae: 1.6594\n",
      "Epoch 42/50\n",
      "\u001b[1m1242/1242\u001b[0m \u001b[32m━━━━━━━━━━━━━━━━━━━━\u001b[0m\u001b[37m\u001b[0m \u001b[1m4s\u001b[0m 2ms/step - loss: 24.4443 - mae: 1.9861\n",
      "Epoch 43/50\n",
      "\u001b[1m1242/1242\u001b[0m \u001b[32m━━━━━━━━━━━━━━━━━━━━\u001b[0m\u001b[37m\u001b[0m \u001b[1m3s\u001b[0m 2ms/step - loss: 10.7504 - mae: 1.5846\n",
      "Epoch 44/50\n",
      "\u001b[1m1242/1242\u001b[0m \u001b[32m━━━━━━━━━━━━━━━━━━━━\u001b[0m\u001b[37m\u001b[0m \u001b[1m3s\u001b[0m 2ms/step - loss: 16.2096 - mae: 1.8652\n",
      "Epoch 45/50\n",
      "\u001b[1m1242/1242\u001b[0m \u001b[32m━━━━━━━━━━━━━━━━━━━━\u001b[0m\u001b[37m\u001b[0m \u001b[1m3s\u001b[0m 2ms/step - loss: 93.5603 - mae: 3.3443\n",
      "Epoch 46/50\n",
      "\u001b[1m1242/1242\u001b[0m \u001b[32m━━━━━━━━━━━━━━━━━━━━\u001b[0m\u001b[37m\u001b[0m \u001b[1m3s\u001b[0m 2ms/step - loss: 25.2539 - mae: 1.8763\n",
      "Epoch 47/50\n",
      "\u001b[1m1242/1242\u001b[0m \u001b[32m━━━━━━━━━━━━━━━━━━━━\u001b[0m\u001b[37m\u001b[0m \u001b[1m4s\u001b[0m 2ms/step - loss: 39.5941 - mae: 2.4086\n",
      "Epoch 48/50\n",
      "\u001b[1m1242/1242\u001b[0m \u001b[32m━━━━━━━━━━━━━━━━━━━━\u001b[0m\u001b[37m\u001b[0m \u001b[1m2s\u001b[0m 2ms/step - loss: 13.9545 - mae: 1.6847\n",
      "Epoch 49/50\n",
      "\u001b[1m1242/1242\u001b[0m \u001b[32m━━━━━━━━━━━━━━━━━━━━\u001b[0m\u001b[37m\u001b[0m \u001b[1m3s\u001b[0m 2ms/step - loss: 41.9278 - mae: 2.7331\n",
      "Epoch 50/50\n",
      "\u001b[1m1242/1242\u001b[0m \u001b[32m━━━━━━━━━━━━━━━━━━━━\u001b[0m\u001b[37m\u001b[0m \u001b[1m3s\u001b[0m 2ms/step - loss: 10.4421 - mae: 1.5397\n"
     ]
    }
   ],
   "source": [
    "# Train the model\n",
    "fit_model = nn.fit(X_train_scaled,y_train,epochs=50)"
   ]
  },
  {
   "cell_type": "code",
   "execution_count": 97,
   "metadata": {
    "colab": {
     "base_uri": "https://localhost:8080/"
    },
    "id": "DlRb94FqOLRG",
    "outputId": "2e03860e-b9fd-4c5e-90b5-8355802f8bdc"
   },
   "outputs": [
    {
     "name": "stdout",
     "output_type": "stream",
     "text": [
      "414/414 - 1s - 1ms/step - loss: 94.9049 - mae: 4.7815\n",
      "Loss: 94.90485382080078, Accuracy: 4.781548500061035\n"
     ]
    }
   ],
   "source": [
    "# Evaluate the model using the test data\n",
    "model_loss, model_accuracy = nn.evaluate(X_test_scaled,y_test,verbose=2)\n",
    "print(f\"Loss: {model_loss}, Mean Absolute Error: {model_accuracy}\")"
   ]
  },
  {
   "cell_type": "code",
   "execution_count": 45,
   "metadata": {},
   "outputs": [],
   "source": [
    "#define variables\n",
    "y = data_df['Total_Sales']  # Dependent variable: Total Sales\n",
    "x = data_df['Total_Cost']   # Independent variable: Total Cost"
   ]
  },
  {
   "cell_type": "code",
   "execution_count": 46,
   "metadata": {},
   "outputs": [],
   "source": [
    "# Perform linear regression using linregress\n",
    "slope, intercept, r_value, p_value, std_err = st.linregress(x, y)"
   ]
  },
  {
   "cell_type": "code",
   "execution_count": 47,
   "metadata": {},
   "outputs": [],
   "source": [
    "# Creating the regression line\n",
    "regression_line = slope * x + intercept"
   ]
  },
  {
   "cell_type": "code",
   "execution_count": 48,
   "metadata": {},
   "outputs": [
    {
     "name": "stdout",
     "output_type": "stream",
     "text": [
      "Slope: 1.162252797617822\n",
      "Intercept: -6.083320044623505\n",
      "R-squared: 0.9694009116123096\n",
      "Standard Error: 0.0008973416946629516\n"
     ]
    },
    {
     "data": {
      "image/png": "[encoded data removed]",
      "text/plain": [
       "<Figure size 1000x600 with 1 Axes>"
      ]
     },
     "metadata": {},
     "output_type": "display_data"
    }
   ],
   "source": [
    "# Plot the scatter plot and regression line\n",
    "plt.figure(figsize=(10, 6))\n",
    "plt.scatter(x, y, color='blue', label='Total Sales vs Total Cost')  # Scatter plot of data points\n",
    "plt.plot(x, regression_line, color='red', label='Regression Line')  # Regression line\n",
    "plt.xlabel('Total Cost')  # X-axis label\n",
    "plt.ylabel('Total Sales')  # Y-axis label\n",
    "plt.title('Linear Regression: Total Sales vs Total Cost')  # Title of the plot\n",
    "plt.legend()\n",
    "\n",
    "# Print the results\n",
    "print('Slope:', slope)\n",
    "print('Intercept:', intercept)\n",
    "print('R-squared:', r_value**2)  # R-squared: Proportion of variance explained by the model\n",
    "print('Standard Error:', std_err)"
   ]
  }
 ],
 "metadata": {
  "colab": {
   "provenance": []
  },
  "kernelspec": {
   "display_name": "Python 3.11 (dev)",
   "language": "python",
   "name": "dev"
  },
  "language_info": {
   "codemirror_mode": {
    "name": "ipython",
    "version": 3
   },
   "file_extension": ".py",
   "mimetype": "text/x-python",
   "name": "python",
   "nbconvert_exporter": "python",
   "pygments_lexer": "ipython3",
   "version": "3.11.9"
  }
 },
 "nbformat": 4,
 "nbformat_minor": 0
}
